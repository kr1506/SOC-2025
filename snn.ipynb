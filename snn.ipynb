{
 "cells": [
  {
   "cell_type": "code",
   "execution_count": null,
   "id": "e1c35f48",
   "metadata": {},
   "outputs": [],
   "source": [
    "import numpy as np\n",
    "\n",
    "class SimpleSNN:\n",
    "    def __init__(self, n_inputs, n_outputs):\n",
    "        self.n_inputs = n_inputs\n",
    "        self.n_outputs = n_outputs\n",
    "        self.weights = np.random.rand(n_outputs, n_inputs) * 0.5\n",
    "        self.pre_trace = np.zeros(n_inputs)\n",
    "        self.post_trace = np.zeros(n_outputs)\n",
    "        self.lr = 0.01\n",
    "\n",
    "    def forward(self, x):\n",
    "        # x: input spikes (binary vector)\n",
    "        spikes = (x > 0).astype(float)\n",
    "        out = np.dot(self.weights, spikes)\n",
    "        out_spikes = (out > 0.5).astype(float)\n",
    "        self.pre_trace = 0.9 * self.pre_trace + spikes\n",
    "        self.post_trace = 0.9 * self.post_trace + out_spikes\n",
    "        return out_spikes\n",
    "\n",
    "    def stdp(self, x, y):\n",
    "        # x: input spikes, y: output spikes\n",
    "        for i in range(self.n_outputs):\n",
    "            for j in range(self.n_inputs):\n",
    "                dw = self.lr * (self.pre_trace[j] * y[i] - x[j] * self.post_trace[i])\n",
    "                self.weights[i, j] += dw\n",
    "        self.weights = np.clip(self.weights, 0, 1)\n",
    "\n",
    "# Example usage\n",
    "if __name__ == \"__main__\":\n",
    "    snn = SimpleSNN(n_inputs=3, n_outputs=2)\n",
    "    for step in range(10):\n",
    "        x = np.random.randint(0, 2, 3)  # random input spikes\n",
    "        y = snn.forward(x)\n",
    "        snn.stdp(x, y)\n",
    "        print(f\"Step {step+1}: input={x}, output="
   ]
  }
 ],
 "metadata": {
  "language_info": {
   "name": "python"
  }
 },
 "nbformat": 4,
 "nbformat_minor": 5
}
