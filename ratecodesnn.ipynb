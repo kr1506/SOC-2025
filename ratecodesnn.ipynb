{
 "cells": [
  {
   "cell_type": "code",
   "execution_count": 1,
   "id": "245ace80",
   "metadata": {},
   "outputs": [
    {
     "name": "stdout",
     "output_type": "stream",
     "text": [
      "Step 1: input_rates=[0.98 0.36 0.37], output_rates=[0.55 0.1 ]\n",
      "Step 2: input_rates=[0.98 0.12 0.18], output_rates=[0.2 0. ]\n",
      "Step 3: input_rates=[0.07 0.04 0.14], output_rates=[0. 0.]\n",
      "Step 4: input_rates=[0.59 0.55 0.85], output_rates=[0.65 0.35]\n",
      "Step 5: input_rates=[0.76 0.34 0.29], output_rates=[0.35 0.05]\n",
      "Step 6: input_rates=[0.57 0.14 0.2 ], output_rates=[0.15 0.  ]\n",
      "Step 7: input_rates=[0.87 0.78 0.16], output_rates=[0.7 0.1]\n",
      "Step 8: input_rates=[0.37 0.6  0.39], output_rates=[0.3 0.2]\n",
      "Step 9: input_rates=[0.63 0.88 0.44], output_rates=[0.65 0.25]\n",
      "Step 10: input_rates=[0.08 0.2  0.96], output_rates=[0.2 0.2]\n"
     ]
    }
   ],
   "source": [
    "import numpy as np\n",
    "\n",
    "class RateCodedSNN:\n",
    "    def __init__(self, n_inputs, n_outputs):\n",
    "        self.n_inputs = n_inputs\n",
    "        self.n_outputs = n_outputs\n",
    "        self.weights = np.random.rand(n_outputs, n_inputs) * 0.5\n",
    "        self.lr = 0.01\n",
    "\n",
    "    def encode_rate(self, value, max_rate=20, duration=20):\n",
    "        # value: float in [0, 1], returns spike train of length 'duration'\n",
    "        rate = int(value * max_rate)\n",
    "        spikes = np.zeros(duration)\n",
    "        spikes[:rate] = 1\n",
    "        np.random.shuffle(spikes)\n",
    "        return spikes\n",
    "\n",
    "    def forward(self, input_rates):\n",
    "        # input_rates: array of floats in [0, 1], one per input neuron\n",
    "        duration = 20\n",
    "        input_spikes = np.array([self.encode_rate(val, duration=duration) for val in input_rates])\n",
    "        output_spikes = np.zeros((self.n_outputs, duration))\n",
    "        for t in range(duration):\n",
    "            x_t = input_spikes[:, t]\n",
    "            out = np.dot(self.weights, x_t)\n",
    "            output_spikes[:, t] = (out > 0.5).astype(float)\n",
    "        # Return average firing rate for each output neuron\n",
    "        return output_spikes.mean(axis=1)\n",
    "\n",
    "    def stdp(self, input_rates, output_rates):\n",
    "        # Simple Hebbian-like update for demonstration\n",
    "        for i in range(self.n_outputs):\n",
    "            for j in range(self.n_inputs):\n",
    "                dw = self.lr * input_rates[j] * output_rates[i]\n",
    "                self.weights[i, j] += dw\n",
    "        self.weights = np.clip(self.weights, 0, 1)\n",
    "\n",
    "# Example usage\n",
    "if __name__ == \"__main__\":\n",
    "    snn = RateCodedSNN(n_inputs=3, n_outputs=2)\n",
    "    for step in range(10):\n",
    "        input_rates = np.random.rand(3)  # values in [0, 1]\n",
    "        output_rates = snn.forward(input_rates)\n",
    "        snn.stdp(input_rates, output_rates)\n",
    "        print(f\"Step {step+1}: input_rates={input_rates.round(2)}, output_rates={output_rates.round(2)}\")"
   ]
  }
 ],
 "metadata": {
  "kernelspec": {
   "display_name": "Python 3",
   "language": "python",
   "name": "python3"
  },
  "language_info": {
   "codemirror_mode": {
    "name": "ipython",
    "version": 3
   },
   "file_extension": ".py",
   "mimetype": "text/x-python",
   "name": "python",
   "nbconvert_exporter": "python",
   "pygments_lexer": "ipython3",
   "version": "3.13.0"
  }
 },
 "nbformat": 4,
 "nbformat_minor": 5
}
